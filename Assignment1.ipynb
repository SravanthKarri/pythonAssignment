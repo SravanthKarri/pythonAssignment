{
 "cells": [
  {
   "cell_type": "code",
   "execution_count": 1,
   "id": "d020fc3c",
   "metadata": {},
   "outputs": [],
   "source": [
    "#Question 1 :\n",
    "#Define a function, which takes in two strings A and B. Reverses the first string A, adds it to B, and returns the final string.\n",
    "def func(a,b):\n",
    "    c=a[::-1]\n",
    "    return c+b"
   ]
  },
  {
   "cell_type": "code",
   "execution_count": 3,
   "id": "2b948ad4",
   "metadata": {},
   "outputs": [
    {
     "data": {
      "text/plain": [
       "'htnavarskarri'"
      ]
     },
     "execution_count": 3,
     "metadata": {},
     "output_type": "execute_result"
    }
   ],
   "source": [
    "func('sravanth','karri')"
   ]
  },
  {
   "cell_type": "code",
   "execution_count": 76,
   "id": "018cadf4",
   "metadata": {},
   "outputs": [],
   "source": [
    "#Question 2 :\n",
    "#Given a list having Names, work_hours, and gender, Write a function to print name of the female worker that worked the most hours. Also how much do should she be paid if the pay is $ 20 per hour.\n",
    "#work_hours = [('Abby',100 , 'F'),('Billy',400, 'M'),('Cassie',800,'F'), ('Maggi',600,'F'),('Alex',500,'M'),('Raj',225,'M'),('Penny',920,'F'),('Ben',300,'M')]\n",
    "work_hours = [('Abby',100 , 'F'),('Billy',400, 'M'),('Cassie',800,'F'), ('Maggi',600,'F'),('Alex',500,'M'),('Raj',225,'M'),('Penny',920,'F'),('Ben',300,'M')]\n",
    "def work():\n",
    "    l1=[]\n",
    "    l2=[]\n",
    "    for i in work_hours:\n",
    "        if i[2]=='F':\n",
    "            l2.append(i)\n",
    "    a=max(l2)\n",
    "    b=a[1]*20 \n",
    "    return a[0],b\n",
    "    \n",
    "    \n"
   ]
  },
  {
   "cell_type": "code",
   "execution_count": 77,
   "id": "0c764960",
   "metadata": {},
   "outputs": [
    {
     "data": {
      "text/plain": [
       "('Penny', 18400)"
      ]
     },
     "execution_count": 77,
     "metadata": {},
     "output_type": "execute_result"
    }
   ],
   "source": [
    "work()"
   ]
  },
  {
   "cell_type": "code",
   "execution_count": 107,
   "id": "c2cee6fd",
   "metadata": {},
   "outputs": [
    {
     "data": {
      "text/plain": [
       "array([[1, 1, 1, 1, 1],\n",
       "       [2, 2, 2, 2, 2],\n",
       "       [3, 3, 3, 3, 3],\n",
       "       [4, 4, 4, 4, 4],\n",
       "       [5, 5, 5, 5, 5]])"
      ]
     },
     "execution_count": 107,
     "metadata": {},
     "output_type": "execute_result"
    }
   ],
   "source": [
    "#Question 3 :\n",
    "#a)Create a 5x5 matrix of the following form,\n",
    "#[[1,1]\n",
    "#[2,2]]\n",
    "#i.e. each row is increasing and has repetive elements.\n",
    "#Hint : you can use hstack, vstack etc.\n",
    "#b) find dot product of the matrix with any matrix. (Figure out the size/ shape of the matrix)\n",
    "arr1=np.vstack(([1,1,1,1,1],[2,2,2,2,2],[3,3,3,3,3],[4,4,4,4,4],[5,5,5,5,5]))\n",
    "arr1\n"
   ]
  },
  {
   "cell_type": "code",
   "execution_count": 108,
   "id": "204beed4",
   "metadata": {},
   "outputs": [
    {
     "data": {
      "text/plain": [
       "array([[16, 12],\n",
       "       [14, 28]])"
      ]
     },
     "execution_count": 108,
     "metadata": {},
     "output_type": "execute_result"
    }
   ],
   "source": [
    "arr = np.array([[3, 1], \n",
    "                [2, 4]])\n",
    "arr1 = np.array([[5, 2], \n",
    "                 [1, 6]])\n",
    "arr2 = np.dot(arr, arr1)\n",
    "arr2"
   ]
  }
 ],
 "metadata": {
  "kernelspec": {
   "display_name": "Python 3 (ipykernel)",
   "language": "python",
   "name": "python3"
  },
  "language_info": {
   "codemirror_mode": {
    "name": "ipython",
    "version": 3
   },
   "file_extension": ".py",
   "mimetype": "text/x-python",
   "name": "python",
   "nbconvert_exporter": "python",
   "pygments_lexer": "ipython3",
   "version": "3.9.7"
  }
 },
 "nbformat": 4,
 "nbformat_minor": 5
}
